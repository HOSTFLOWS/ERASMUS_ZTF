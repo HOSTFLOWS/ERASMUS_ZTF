{
 "cells": [
  {
   "attachments": {},
   "cell_type": "markdown",
   "metadata": {},
   "source": [
    "Modify the txt files to be compatible to sncosmo"
   ]
  },
  {
   "cell_type": "code",
   "execution_count": 1,
   "metadata": {},
   "outputs": [],
   "source": [
    "import os\n",
    "import math"
   ]
  },
  {
   "cell_type": "code",
   "execution_count": null,
   "metadata": {},
   "outputs": [],
   "source": [
    "input_folder_path = './SNooPy files/'\n",
    "\n",
    "output_dir = './SNooPy files/output'\n",
    "\n",
    "if not os.path.exists(output_dir):\n",
    "    os.makedirs(output_dir)\n",
    "\n",
    "for input_file_name in os.listdir(input_folder_path):\n",
    "    if input_file_name.endswith('.txt'):\n",
    "        input_file_path = os.path.join(input_folder_path, input_file_name)\n",
    "\n",
    "        output_file_name = os.path.join(output_dir, os.path.splitext(input_file_name)[0] + '.txt')\n",
    "\n",
    "        with open(input_file_path, 'r') as f:\n",
    "            first_line = f.readline().strip().split()\n",
    "            first_num = first_line[1]\n",
    "\n",
    "            lines = []\n",
    "            current_words = None\n",
    "            for line in f:\n",
    "                if \"filter\" in line:\n",
    "                    current_words = line.strip().split()[1]\n",
    "                    if \"H\" in current_words:\n",
    "                        current_words = \"2massh\"\n",
    "                    if \"K\" in current_words:\n",
    "                        current_words = \"2massks\"\n",
    "                    if \"ATri\" in current_words:\n",
    "                        current_words = \"atlaso\"\n",
    "                    if \"ATgr\" in current_words:\n",
    "                        current_words = \"atlasc\"\n",
    "                    elif \"J\" in current_words:\n",
    "                        current_words = \"2massj\"\n",
    "                    continue\n",
    "                columns = line.strip().split()\n",
    "                columns.insert(1, current_words)\n",
    "                columns[2] = str(math.pow(10, (25 - float(columns[2])) / 2.5))\n",
    "                columns[3] = str(float(columns[2])*(math.pow(10, -(float(columns[3]) / (-2.5)))-1))\n",
    "                lines.append(columns)\n",
    "                columns.insert(4, '25.0')\n",
    "                columns.insert(5, 'ab')\n",
    "\n",
    "        with open(output_file_name, 'w') as out_file:\n",
    "            out_file.write(\"{}\\n\".format(first_num)) \n",
    "            out_file.write(\"time        band    flux               fluxerr   zp     zpsys\\n\")\n",
    "            for line in lines:\n",
    "                out_file.write('\\t'.join(line) + \"\\n\")\n"
   ]
  }
 ],
 "metadata": {
  "kernelspec": {
   "display_name": "Python 3",
   "language": "python",
   "name": "python3"
  },
  "language_info": {
   "codemirror_mode": {
    "name": "ipython",
    "version": 3
   },
   "file_extension": ".py",
   "mimetype": "text/x-python",
   "name": "python",
   "nbconvert_exporter": "python",
   "pygments_lexer": "ipython3",
   "version": "3.10.7"
  },
  "orig_nbformat": 4
 },
 "nbformat": 4,
 "nbformat_minor": 2
}
